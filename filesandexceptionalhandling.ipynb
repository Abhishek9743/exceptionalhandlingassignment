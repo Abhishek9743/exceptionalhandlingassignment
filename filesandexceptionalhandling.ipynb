{
  "nbformat": 4,
  "nbformat_minor": 0,
  "metadata": {
    "colab": {
      "provenance": []
    },
    "kernelspec": {
      "name": "python3",
      "display_name": "Python 3"
    },
    "language_info": {
      "name": "python"
    }
  },
  "cells": [
    {
      "cell_type": "markdown",
      "source": [
        "#Theory Questions"
      ],
      "metadata": {
        "id": "P8gkkEzBfQQq"
      }
    },
    {
      "cell_type": "markdown",
      "source": [
        "#1)  What is the difference between interpreted and compiled languages?\n",
        "-\n",
        "Key Differences Between Interpreted and Compiled Languages\n",
        "\n",
        "##Compiled Languages\n",
        "\n",
        "- The source code is translated into machine code by a compiler before execution. This machine code is then executed directly by the computer's CPU.\n",
        "\n",
        "- Compilation is a separate step that happens once (unless the source code changes), and it produces an executable file (like .exe or .dll).\n",
        "\n",
        "- Examples include C, C++, C#, COBOL, and Go.\n",
        "\n",
        "- Compiled programs generally run faster because the translation to machine code happens ahead of time, not during execution.\n",
        "\n",
        "- Errors are detected during the compilation step, before the program runs.\n",
        "\n",
        "- Compiled code is typically platform-dependent unless special measures (like cross-compilers or virtual machines) are used.\n",
        "\n",
        "##Interpreted Languages\n",
        "\n",
        "- The source code is executed line by line by an interpreter, which translates each instruction into machine code on the fly at runtime.\n",
        "\n",
        "- There is no separate compilation step; the code is interpreted and executed in a single step each time the program runs.\n",
        "\n",
        "- Examples include Python, JavaScript, Perl, and BASIC.\n",
        "\n",
        "- Interpreted programs usually run slower because translation happens during execution, adding overhead for each line.\n",
        "\n",
        "- Errors are typically detected at runtime, which can make debugging easier for small programs but riskier for large ones.\n",
        "\n",
        "- Interpreted code is often more portable, as the same source code can run on different platforms as long as an appropriate interpreter is available.\n",
        "\n",
        "###Additional Notes\n",
        "\n",
        "- Some languages (like Java) use a mix: source code is compiled to intermediate bytecode, which is then interpreted or just-in-time compiled by a virtual machine.\n",
        "\n",
        "- The choice between compiled and interpreted languages often depends on the need for speed (favoring compiled) versus ease of development and portability (favoring interpreted).\n",
        "\n",
        "In summary, compiled languages translate code ahead of time for faster execution, while interpreted languages translate code at runtime for greater flexibility and portability.\n",
        "\n",
        "\n",
        "#2) What is exception handling in Python?\n",
        "  **Exception Handling in Python**\n",
        "\n",
        "Exception handling in Python is a mechanism that allows you to manage errors (called exceptions) that occur during program execution, so the code can respond gracefully instead of crashing.\n",
        "\n",
        "**How It Works**\n",
        "\n",
        "When Python encounters an error during execution, it raises an exception. Without handling, this would stop the program and display an error message.\n",
        "\n",
        "Exception handling lets the user catch these errors using special keywords and blocks, allowing the program to continue or handle the error in a controlled way.\n",
        "\n",
        "**Key Components**\n",
        "- try: The code that might cause an exception goes here.\n",
        "\n",
        "- except: Code here runs if an exception occurs in the try block. You can catch specific exceptions (like ZeroDivisionError or ValueError) or handle all exceptions generally.\n",
        "\n",
        "- else: (Optional) Runs if no exception occurs in the try block.\n",
        "\n",
        "- finally: (Optional) Runs no matter what, useful for cleanup actions like closing files.\n",
        "\n",
        "**Example**\n",
        "\n",
        "    try:\n",
        "        number = int(input(\"Enter a number: \"))\n",
        "        result = 10 / number\n",
        "    except ValueError:\n",
        "        print(\"Invalid input. Please enter a valid number.\")\n",
        "    except ZeroDivisionError:\n",
        "        print(\"Division by zero is not allowed.\")\n",
        "    else:\n",
        "        print(\"The result is:\", result)\n",
        "    finally:\n",
        "        print(\"Execution complete.\")\n",
        "If the user enters a non-integer, the ValueError block runs.\n",
        "\n",
        "If the user enters 0, the ZeroDivisionError block runs.\n",
        "\n",
        "If no error occurs, the else block runs.\n",
        "\n",
        "The finally block always runs.\n",
        "\n",
        "**Benefits**\n",
        "\n",
        "- Prevents program crashes by handling errors gracefully.\n",
        "\n",
        "- Allows for custom error messages and alternative flows.\n",
        "\n",
        "- Makes debugging and maintenance easier by isolating error-prone code.\n",
        "\n",
        "**Advanced Usage**\n",
        "\n",
        "- Multiple exceptions can be handled in one block using a tuple: except (ValueError, ZeroDivisionError): ....\n",
        "\n",
        "- Errors can be logged for debugging instead of being shown to users.\n",
        "\n",
        "In summary: Exception handling in Python uses try, except, else, and finally blocks to catch and manage errors, ensuring your programs are robust and user-friendly.\n",
        "\n",
        "#3) What is the purpose of the finally block in exception handling?\n",
        "- The purpose of the finally block in Python exception handling is to ensure that specific code is executed no matter what-whether an exception occurs, is handled, or not. This block is typically used for cleanup actions, such as closing files, releasing resources, or other concluding tasks that must happen regardless of the outcome of the try and except blocks.\n",
        "\n",
        "The finally block runs:\n",
        "\n",
        "- After the try block completes, whether or not an exception was raised.\n",
        "\n",
        "- Even if an exception is not caught by an except block.\n",
        "\n",
        "- Before the program leaves the try statement, including when exiting via return, break, or continue statements.\n",
        "\n",
        "This guarantees that critical cleanup code is always executed, helping maintain resource integrity and preventing resource leaks (for example, ensuring files or network connections are properly closed).\n",
        "\n",
        "#4)What is logging in Python?\n",
        " **Logging in Python**\n",
        "\n",
        "Logging in Python refers to the process of recording events, errors, informational messages, and debugging output from a program in a systematic way. Python provides a built-in logging module that enables developers to track the flow and state of their applications, making it easier to diagnose problems, monitor behavior, and maintain code.\n",
        "\n",
        "**Key Features of Python Logging**\n",
        "\n",
        "- Log Levels: Python logging supports different severity levels: DEBUG, INFO, WARNING, ERROR, and CRITICAL. These levels help categorize the importance and urgency of log messages.\n",
        "\n",
        "- Loggers, Handlers, and Formatters:\n",
        "\n",
        "  - Logger: The main entry point for logging events from your code.\n",
        "\n",
        "  - Handler: Determines where the log messages go (e.g., console, file, HTTP endpoint).\n",
        "\n",
        "  - Formatter: Specifies the layout and content of each log message.\n",
        "\n",
        "- Configuration: Logging can be configured programmatically or via configuration files (e.g., JSON, YAML) to centralize and standardize logging across applications.\n",
        "\n",
        "- Custom Loggers: You can create custom loggers for different modules or components, allowing for granular control over logging output.\n",
        "\n",
        "- Log Rotation: Handlers like RotatingFileHandler allow automatic rotation of log files to prevent them from growing indefinitely.\n",
        "\n",
        " **Usage Example**\n",
        "\n",
        "      import logging\n",
        "\n",
        "      logging.basicConfig(level=logging.INFO, format='%(asctime)s - %(levelname)s - %(message)s')\n",
        "      logger = logging.getLogger(__name__)\n",
        "\n",
        "      logger.info(\"This is an informational message.\")\n",
        "      logger.error(\"This is an error message.\")\n",
        "This example sets up basic logging to the console with time, level, and message, and logs messages at different severity levels.\n",
        "\n",
        "**Purpose and Benefits**\n",
        "\n",
        "- Debugging: Helps trace issues and understand program flow.\n",
        "\n",
        "- Monitoring: Provides insight into application health and user activity.\n",
        "\n",
        "- Auditing: Maintains a record of significant events and errors for compliance or review.\n",
        "\n",
        "- Maintenance: Simplifies troubleshooting and long-term support by providing historical context.\n",
        "\n",
        "In summary, logging in Python is a robust and flexible system for recording application events, crucial for debugging, monitoring, and maintaining software.\n",
        "\n",
        "\n",
        "#5)What is the significance of the \" __ del __ \" method in Python?\n",
        "- The \" __ del __ \" method in Python is known as a finalizer and is called right before an object is destroyed by the garbage collector, which happens when there are no more references to that object. Its primary significance is to provide a way to define cleanup actions that should occur when an object is about to be removed from memory, such as releasing external resources or performing final logging.\n",
        "\n",
        "However, the timing of when \" __ del __ \" is called is determined by Python's garbage collector, not immediately upon using del or when a variable goes out of scope. This means you generally cannot predict exactly when the \" __ del __ \" method will run. Additionally, exceptions raised inside \" __ del __ \" are ignored and not propagated, which can make debugging difficult.\n",
        "\n",
        "Because of these limitations and unpredictability, using \" __ del __ \" for critical resource management (like closing files or network connections) is discouraged. Instead, context managers (using the with statement) are recommended for reliable cleanup. In summary, the  \" __ del __ \" method allows for object finalization but should be used with caution due to its non-deterministic nature.\n",
        "\n",
        "#6) What is the difference between import and from ... import in Python?\n",
        "- Here’s the difference between import and from ... import in Python in pointer format:\n",
        "\n",
        "**import Statement**\n",
        "- Imports the entire module.\n",
        "\n",
        "- Syntax: import module_name\n",
        "\n",
        "- Access module members using the module name as a prefix (e.g., module_name.member).\n",
        "\n",
        "- Keeps the namespace clean and reduces the risk of name conflicts.\n",
        "\n",
        "**Example:**\n",
        "\n",
        "    import math\n",
        "    print(math.sqrt(16))\n",
        "- Can use aliasing: import module_name as alias\n",
        "\n",
        "**from ... import Statement**\n",
        "\n",
        "- Imports specific attributes (functions, classes, variables) from a module.\n",
        "\n",
        "- Syntax: from module_name import member1, member2\n",
        "\n",
        "- Allows direct access to imported members (no module prefix needed).\n",
        "\n",
        "- Increases risk of name conflicts (since names are added directly to your namespace).\n",
        "\n",
        "**Example:**\n",
        "\n",
        "    from math import sqrt\n",
        "    print(sqrt(16))\n",
        "- Can use aliasing for members: from module_name import member as alias\n",
        "\n",
        "**Key Differences**\n",
        "\n",
        "- import keeps everything under the module’s namespace; from ... import brings names directly into your code’s namespace.\n",
        "\n",
        "- import is clearer when using many features from a module; from ... import is convenient for using just a few features frequently.\n",
        "\n",
        "- Both load the full module into memory; the difference is in how you access its contents.\n",
        "\n",
        "**Tip:**\n",
        "Use import for clarity and to avoid name clashes. Use from ... import for brevity when using a few specific members often.\n",
        "\n"
      ],
      "metadata": {
        "id": "6228kjjVfaPH"
      }
    },
    {
      "cell_type": "markdown",
      "source": [
        "#7)How can you handle multiple exceptions in Python?\n",
        "- **Handling Multiple Exceptions in Python**\n",
        "\n",
        "We can handle multiple exceptions in Python using several approaches, depending on whether we want to respond to different exceptions in the same way or handle each one differently.\n",
        "\n",
        "1. Catching Multiple Exceptions in a Single Block\n",
        "\n",
        "- Use a tuple of exception types in a single except clause.\n",
        "\n",
        "- The same block of code will run if any of the listed exceptions is raised.\n",
        "\n",
        "      try:\n",
        "          # code that might raise multiple exceptions\n",
        "          x = 1 / 0\n",
        "      except (ZeroDivisionError, TypeError, ValueError) as e:\n",
        "          print(f\"Caught an exception: {e}\")\n",
        "This approach is concise and useful when you want to handle several exceptions in the same way.\n",
        "\n",
        "2. Handling Different Exceptions Separately\n",
        "\n",
        "- Use multiple except clauses to handle each exception type with different logic.\n",
        "\n",
        "      try:\n",
        "          # code that might raise exceptions\n",
        "          result = int('a') + 5\n",
        "      except ValueError:\n",
        "          print(\"ValueError occurred\")\n",
        "      except TypeError:\n",
        "          print(\"TypeError occurred\")\n",
        "This method is appropriate when each exception requires a unique response.\n",
        "\n",
        "3. Using Exception Object with Conditional Logic\n",
        "\n",
        "- Catch multiple exceptions in one block, then use isinstance() or other checks to differentiate between them.\n",
        "\n",
        "      try:\n",
        "          # code that might raise exceptions\n",
        "          result = 10 / 0\n",
        "      except (ZeroDivisionError, OverflowError) as e:\n",
        "          if isinstance(e, ZeroDivisionError):\n",
        "              print(\"Cannot divide by zero\")\n",
        "          else:\n",
        "              print(\"Math calculation overflow\")\n",
        "\n",
        "\n",
        "Best Practice:\n",
        "\n",
        "Catch specific exceptions rather than using a generic except: clause, as this improves code clarity and avoids hiding unexpected errors.        \n",
        "\n",
        "#8) What is the purpose of the with statement when handling files in Python?\n",
        "- The purpose of the with statement when handling files in Python is to simplify and automate resource management, specifically the opening and closing of files. When we use the with statement with open(), Python automatically ensures that the file is properly closed after the block of code is executed, even if an exception occurs within the block. This reduces the risk of resource leaks, eliminates the need for manual close() calls, and leads to cleaner, more reliable code.\n",
        "\n",
        "Key benefits of using with for file handling:\n",
        "\n",
        "- Automatic Cleanup: Files are automatically closed when the block is exited, regardless of whether an error occurs.\n",
        "\n",
        "- Cleaner Syntax: Reduces boilerplate code compared to using try-finally or manually closing files.\n",
        "\n",
        "- Error Safety: Helps prevent resource leaks by guaranteeing that files are closed, which is essential for robust file handling.\n",
        "\n",
        "- Readability: Makes the intent of resource management clear and the code easier to read and maintain.\n",
        "\n",
        "**Sample Example**\n",
        "\n",
        "  - Using with Statement\n",
        "\n",
        "        with open('example.txt', 'w') as file:\n",
        "            file.write('Hello, World!')\n",
        "        # At this point, the file is automatically closed, even if an error occurred above.\n",
        "  - Equivalent Code Without with (Not Recommended)\n",
        "\n",
        "        file = open('example.txt', 'w')\n",
        "        try:\n",
        "            file.write('Hello, World!')\n",
        "        finally:\n",
        "            file.close()\n",
        "Summary:\n",
        "\n",
        "The with statement is the preferred way to handle files in Python because it automatically manages opening and closing, making the code safer and more concise.\n",
        "\n",
        "#9)What is the difference between multithreading and multiprocessing?\n",
        "- **Difference Between Multithreading and Multiprocessing**\n",
        "\n",
        "Multithreading and multiprocessing are both techniques to achieve multitasking in Python, but they differ in how they execute tasks and utilize system resources.\n",
        "\n",
        "**Multithreading**\n",
        "\n",
        "- Involves running multiple threads within a single process.\n",
        "\n",
        "- Threads share the same memory space and resources of the parent process.\n",
        "\n",
        "- Useful for I/O-bound tasks (like reading files, network operations) because while one thread waits for I/O, others can run.\n",
        "\n",
        "- Threads are lightweight and have less memory overhead compared to processes.\n",
        "\n",
        "- Due to Python’s Global Interpreter Lock (GIL), only one thread executes Python bytecode at a time, so multithreading does not provide true parallelism for CPU-bound tasks in standard Python implementations.\n",
        "\n",
        "- Easier to share data between threads, but also increases the risk of data corruption and requires careful synchronization.\n",
        "\n",
        "**Multiprocessing**\n",
        "\n",
        "- Involves running multiple processes, each with its own Python interpreter and memory space.\n",
        "\n",
        "- Processes do not share memory, making them independent and safer from data corruption.\n",
        "\n",
        "- Useful for CPU-bound tasks (like heavy computations) because each process can run on a separate CPU core, achieving true parallelism and bypassing the GIL.\n",
        "\n",
        "- Processes are heavier than threads and have higher memory and resource overhead.\n",
        "\n",
        "- Data sharing between processes is more complex and typically requires inter-process communication mechanisms (like queues or pipes).\n",
        "\n",
        "**In summary:**\n",
        "\n",
        "- Use multithreading for I/O-bound programs that need to handle many tasks at once but are mostly waiting for input/output.\n",
        "\n",
        "- Use multiprocessing for CPU-bound programs that need to perform heavy computations in parallel and fully utilize multiple CPU cores.\n",
        "\n",
        "#10) What are the advantages of using logging in a program?\n",
        "##Advantages of Using Logging in a Program\n",
        "- Easier Debugging and Error Detection:\n",
        "Logging helps capture errors, warnings, and other events as they occur, making it much easier to debug issues and perform root cause analysis. Logs provide detailed information such as stack traces, timestamps, and context, which are invaluable for understanding how and where an error originated.\n",
        "\n",
        "- Historical Record and Traceability:\n",
        "Logs serve as a historical record of program execution, allowing developers to analyze past events, identify patterns, and track trends over time. This is useful for both troubleshooting and performance monitoring.\n",
        "\n",
        "- Audit and Compliance:\n",
        "Logging is essential for meeting regulatory requirements (like GDPR or PCI-DSS), as it provides an audit trail of user actions, system changes, and data modifications. This helps organizations demonstrate compliance and investigate security incidents.\n",
        "\n",
        "- Performance Monitoring and Key Parameter Tracking:\n",
        "By logging metrics such as response times and resource usage, developers can monitor application performance and identify bottlenecks or inefficiencies.\n",
        "\n",
        "- Configurable and Flexible:\n",
        "Python’s logging module allows developers to adjust log levels, formats, and output destinations (console, files, remote servers) without changing the codebase, making it adaptable for different environments and stages of development.\n",
        "\n",
        "- Proactive Alerting:\n",
        "Logging systems can be integrated with alerting tools to notify developers or administrators when critical errors or thresholds are reached, enabling faster incident response.\n",
        "\n",
        "- Enhanced Observability and Maintenance:\n",
        "Well-structured logs improve application observability, making it easier for teams to maintain, monitor, and scale complex systems.\n",
        "\n",
        "- Supports Team Collaboration:\n",
        "Logs provide a shared source of truth for distributed teams, enabling collaborative troubleshooting and knowledge sharing.\n",
        "\n",
        "In summary, logging is a fundamental practice that enhances debugging, monitoring, compliance, performance optimization, and overall application reliability.\n",
        "\n"
      ],
      "metadata": {
        "id": "dmD6CSUwpOAg"
      }
    },
    {
      "cell_type": "markdown",
      "source": [
        "#11) What is memory management in Python?\n",
        "##Memory Management in Python\n",
        "Memory management in Python refers to the process of efficiently allocating, tracking, and freeing memory used by programs so they run smoothly and without leaks or crashes. Python handles most memory management tasks automatically, allowing developers to focus on writing code rather than worrying about low-level memory operations.\n",
        "\n",
        "##How Memory Management Works in Python\n",
        "- **Private Heap:**\n",
        "\n",
        "  All Python objects and data structures are stored in a private heap, which is managed internally by the Python memory manager. Programmers cannot access this heap directly; instead, they interact with objects through Python’s memory management system.\n",
        "\n",
        "- **Stack and Heap Memory:**\n",
        "\n",
        "  - Stack memory is used for function calls, local variables, and control flow. It is managed automatically and is short-lived-freed as soon as a function exits.\n",
        "\n",
        "  - Heap memory is used for dynamically allocated objects (like lists, dictionaries, and user-defined objects). These objects persist as long as references to them exist.\n",
        "\n",
        "- **Memory Allocators:**\n",
        "\n",
        "  Python uses a built-in memory allocator and organizes memory into pools based on object size to minimize fragmentation and improve efficiency.\n",
        "\n",
        "**Garbage Collection**\n",
        "\n",
        "- Reference Counting:\n",
        "Python tracks how many references exist to each object. When an object’s reference count drops to zero (meaning nothing is using it), the memory is freed immediately.\n",
        "\n",
        "- Cycle Detection:\n",
        "Reference counting alone cannot handle cyclic references (objects referencing each other). Python’s garbage collector uses algorithms like mark-and-sweep to detect and clean up these cycles, ensuring that memory is not leaked.\n",
        "\n",
        "**Memory Optimization Tools**\n",
        "\n",
        "- Python offers tools like gc (garbage collection), sys.getsizeof(), and profiling libraries (pympler, memory_profiler, tracemalloc) to help developers monitor and optimize memory usage.\n",
        "\n",
        "- Efficient programming practices-like using generators, optimized data structures, and avoiding unnecessary copies-can further improve memory usage.\n",
        "\n",
        "**In summary:**\n",
        "\n",
        "Python’s memory management system is automatic and robust, relying on a private heap, reference counting, and garbage collection to ensure that memory is allocated and freed efficiently, reducing the risk of memory leaks and improving program stability.\n",
        "\n",
        "#12) What are the basic steps involved in exception handling in Python?\n",
        "Basic Steps Involved in Exception Handling in Python\n",
        "1. Identify Error-Prone Code with \"try\" Block:\n",
        "Place the code that might raise an exception inside a try block. This tells Python to monitor this section for potential errors.\n",
        "\n",
        "2. Handle Exceptions with \"except\" Block:\n",
        "Follow the try block with one or more except blocks. Each except block specifies how to handle a particular type of exception if it occurs. We can also have a general except block to catch any exception.\n",
        "\n",
        "3. (Optional) Use the \"else\" Block:\n",
        "The else block, if present, executes if no exceptions are raised in the try block. This is useful for code that should only run when the try block succeeds without errors.\n",
        "\n",
        "4. (Optional) Use the \"finally\" Block:\n",
        "The finally block contains code that will run no matter what-whether an exception was raised or not. This is typically used for cleanup actions, such as closing files or releasing resources.\n",
        "\n",
        "Example Structure\n",
        "\n",
        "    try:\n",
        "        # Code that may raise an exception\n",
        "    except SomeException:\n",
        "        # Code to handle the exception\n",
        "    else:\n",
        "        # Code to run if no exception occurs\n",
        "    finally:\n",
        "        # Code that runs no matter what\n",
        "Summary:\n",
        "The basic steps are: wrap risky code in try, handle exceptions with except, optionally use else for success cases, and finally for cleanup-ensuring robust and reliable error handling in Python.\n",
        "\n",
        "#13) Why is memory management important in Python?\n",
        "Memory management is important in Python because it ensures efficient use of system resources, prevents memory leaks, and maintains application performance and stability. Here are the main reasons for its significance:\n",
        "\n",
        "- Efficient Resource Utilization: Proper memory management allows Python programs to use only the memory they need, freeing up unused memory for other processes and reducing overall RAM consumption. This leads to faster processing and better system performance.\n",
        "\n",
        "- Prevention of Memory Leaks: Automatic memory management, including garbage collection, helps avoid memory leaks-situations where memory that is no longer needed is not released. Memory leaks can cause a program's memory usage to grow uncontrollably, eventually slowing down or crashing the application and affecting the entire system.\n",
        "\n",
        "- Scalability and Handling Large Data: In fields like data science and machine learning, efficient memory management is crucial for processing large datasets. Without it, programs may run out of memory or become unresponsive when handling big data.\n",
        "\n",
        "- Reliability and Stability: By automatically deallocating memory for unused objects, Python reduces the risk of bugs related to manual memory handling, such as dangling pointers or double frees, which are common in languages without automatic memory management.\n",
        "\n",
        "- Developer Productivity: Python’s automated memory management allows developers to focus on writing application logic rather than worrying about low-level memory allocation and deallocation, making development faster and less error-prone.\n",
        "\n",
        "In summary, effective memory management in Python is essential for building fast, reliable, and scalable applications, while minimizing the risk of memory-related issues and maximizing hardware utilization.\n",
        "\n",
        "#14)What is the role of try and except in exception handling?\n",
        "The try and except blocks are fundamental to exception handling in Python, allowing us to manage errors gracefully and prevent the program from crashing unexpectedly.\n",
        "\n",
        "- The \"try\" block is used to wrap code that might raise an exception. It lets us test a block of code for errors during execution.\n",
        "\n",
        "- The \"except\" block follows the try block and specifies how to handle specific exceptions if they occur. If an error arises in the try block, Python immediately jumps to the except block, where we can manage the error (such as displaying a message, logging it, or taking corrective action) instead of letting the program terminate abruptly.\n",
        "\n",
        "In summary:\n",
        "The try block tests code for errors, and the except block handles those errors, enabling the program to continue running or exit gracefully rather than crashing.\n",
        "\n",
        "#15) How does Python's garbage collection system work?\n",
        "Python’s garbage collection system is an automatic memory management process that reclaims memory occupied by objects that are no longer in use, allowing developers to focus on writing code without worrying about manual deallocation.\n",
        "\n",
        "**How Python’s Garbage Collection Works**\n",
        "1. Reference Counting\n",
        "\n",
        "- Every object in Python maintains a reference count, which tracks how many references point to that object.\n",
        "\n",
        "- When you create a new reference to an object (assign it to a variable, pass it to a function, etc.), the count increases. When a reference is deleted or goes out of scope, the count decreases.\n",
        "\n",
        "- When an object’s reference count drops to zero (no references left), Python immediately deallocates its memory.\n",
        "\n",
        "2. Handling Cyclic References\n",
        "\n",
        "- Reference counting alone cannot handle cyclic references (e.g., two objects referencing each other), since their counts never reach zero.\n",
        "\n",
        "- To address this, Python uses a generational garbage collector that periodically scans for groups of objects that reference each other but are no longer accessible from the rest of the program.\n",
        "\n",
        "3. Generational Garbage Collection\n",
        "\n",
        "- Objects are grouped into “generations” based on their lifespan.\n",
        "\n",
        "- Younger objects (recently created) are checked for garbage more frequently, while older objects are checked less often.\n",
        "\n",
        "- The garbage collector uses algorithms like mark-and-sweep to identify and collect unreachable objects, especially those involved in reference cycles.\n",
        "\n",
        "4. Manual Control\n",
        "\n",
        "- Python’s gc module allows developers to interact with the garbage collector:\n",
        "\n",
        "  - gc.collect(): Manually trigger garbage collection.\n",
        "\n",
        "  - gc.enable() / gc.disable(): Enable or disable automatic garbage collection.\n",
        "\n",
        "  - gc.get_count(), gc.set_threshold(): Inspect and tune collection behavior.\n",
        "\n",
        "5. Memory Safety and Optimization\n",
        "\n",
        "- The garbage collector minimizes memory leaks and fragmentation, ensuring efficient use of system resources and stable program execution.\n",
        "\n",
        "In summary:\n",
        "\n",
        "Python’s garbage collection system combines reference counting and generational garbage collection to automatically detect and free unused memory, handle cyclic references, and optimize resource usage-all with minimal intervention from the programmer."
      ],
      "metadata": {
        "id": "Wr6rX4hLs4D1"
      }
    },
    {
      "cell_type": "markdown",
      "source": [
        "#16) What is the purpose of the else block in exception handling?\n",
        "The purpose of the else block in exception handling is to specify code that should run only if no exceptions occur in the try block. If the try block executes without raising an exception, the else block is executed immediately afterward; if an exception is raised and caught by an except block, the else block is skipped.\n",
        "\n",
        "Using an else block helps keep the code cleaner and more readable by separating the code that should run only on success from the code that handles errors. It also prevents accidentally catching exceptions from code that should not be part of the error-prone section, which can happen if we put too much logic inside the try block.\n",
        "\n",
        "Example:\n",
        "\n",
        "\n",
        "    try:\n",
        "        number = int(input(\"Enter a number: \"))\n",
        "    except ValueError:\n",
        "        print(\"Invalid input!\")\n",
        "    else:\n",
        "        print(\"You entered:\", number)\n",
        "In this example, the else block runs only if the input can be successfully converted to an integer-if a ValueError occurs, the else block is skipped.\n",
        "\n",
        "In summary:\n",
        "\n",
        "The else block in exception handling is used for code that should execute only when the try block succeeds without exceptions, improving code clarity and helping avoid unintended exception handling.\n",
        "\n",
        "#17)What are the common logging levels in Python?\n",
        "##Common Logging Levels in Python\n",
        "Python defines several standard logging levels to categorize the severity and importance of log messages. These levels help developers filter and manage log output effectively.\n",
        "\n",
        "- DEBUG:\n",
        "Detailed information, typically of interest only when diagnosing problems. Used for granular, step-by-step tracing of program execution.\n",
        "\n",
        "- INFO:\n",
        "Confirms that things are working as expected. Used for general events, progress updates, or successful operations.\n",
        "\n",
        "- WARNING:\n",
        "Indicates something unexpected happened, or a potential issue is detected, but the program is still running. Used for situations that are not errors but might require attention.\n",
        "\n",
        "- ERROR:\n",
        "Reports a more serious problem that has prevented part of the program from functioning. Used when an operation fails.\n",
        "\n",
        "- CRITICAL:\n",
        "Indicates a very serious error, such as a program crash or a condition that requires immediate attention. Used when the program itself may not be able to continue running.\n",
        "\n",
        "These levels are hierarchical: each level includes all the levels above it in severity. For example, setting the logging level to WARNING will capture WARNING, ERROR, and CRITICAL messages, but not INFO or DEBUG.\n",
        "\n",
        "#18)What is the difference between os.fork() and multiprocessing in Python?\n",
        "##Difference Between os.fork() and multiprocessing in Python\n",
        "**os.fork()**\n",
        "\n",
        "- Low-level system call: os.fork() is a direct interface to the operating system's fork functionality, available only on Unix-like systems (Linux, macOS). It is not available on Windows.\n",
        "\n",
        "- How it works: When called, it creates a child process that is an exact copy of the parent process, inheriting its memory, variables, and state at the moment of the fork.\n",
        "\n",
        "- Use case: Suitable for simple cases where you want to create a new process that continues running from the point of the fork. However, managing inter-process communication, process lifecycle, and cross-platform compatibility is up to the programmer.\n",
        "\n",
        "- Limitations: Not portable (does not work on Windows), and can be problematic or unsafe in programs with active threads or complex resources.\n",
        "\n",
        "**multiprocessing Module**\n",
        "\n",
        "- High-level process management: The multiprocessing module provides a platform-independent, high-level API for creating and managing separate Python processes.\n",
        "\n",
        "- How it works: It can use different \"start methods\" to create processes:\n",
        "\n",
        "  - fork: (default on Unix) Child process inherits the parent’s memory and state, similar to os.fork().\n",
        "\n",
        "  - spawn: (default on Windows and macOS) Starts a fresh Python interpreter process, re-imports the main module, and does not inherit memory from the parent.\n",
        "\n",
        "- Features:\n",
        "\n",
        "  - Handles inter-process communication, synchronization, and process lifecycle management.\n",
        "\n",
        "  - Works across platforms (Unix, Windows, macOS).\n",
        "\n",
        "  - Safer and more robust for complex applications, especially those with threads or requiring cross-platform support.\n",
        "\n",
        "- Use case: Recommended for most parallel and concurrent programming in Python, especially when portability and safety are concerns.\n",
        "\n",
        "**In summary:**\n",
        "os.fork() is a Unix-only, low-level process creation tool, while multiprocessing is a high-level, cross-platform module that abstracts process creation, communication, and management, making it the preferred choice for most Python applications.\n",
        "\n",
        "#19) What is the importance of closing a file in Python?\n",
        "Closing a file in Python is crucial for several reasons:\n",
        "\n",
        "- Resource Management: When you open a file, the operating system allocates resources (like file descriptors) to manage it. Closing the file frees these resources, preventing resource leaks and allowing other programs or parts of your code to access the file if needed.\n",
        "\n",
        "- Data Integrity: Closing a file ensures that all buffered or unwritten data is properly flushed and saved to disk. If you don’t close a file, especially after writing, some data may remain in memory and not be written to the file, risking data loss or corruption.\n",
        "\n",
        "- Prevents File Corruption and Locks: An open file may remain locked, preventing other processes from accessing or modifying it. Closing the file releases any locks and reduces the risk of file corruption.\n",
        "\n",
        "- Error Prevention: Failing to close files can lead to hard-to-debug issues, such as exceeding the system’s limit on open files or causing application instability, especially in programs that open many files or run for long periods.\n",
        "\n",
        "**Best Practice:**\n",
        "Use the with statement when working with files in Python. This ensures files are automatically closed, even if an error occurs, making your code safer and more reliable.\n",
        "\n",
        "In summary, closing files in Python is essential for maintaining data integrity, optimizing resource usage, and ensuring the stability and reliability of your applications.\n",
        "\n",
        "#20) What is the difference between file.read() and file.readline() in Python?\n",
        "The difference between file.read() and file.readline() in Python is as follows:\n",
        "\n",
        "- file.read()\n",
        "\n",
        "  - Reads the entire contents of the file as a single string (or a specified number of bytes if an argument is provided).\n",
        "\n",
        "  - Useful when you want to process the whole file at once.\n",
        "\n",
        "Example:\n",
        "\n",
        "    content = file.read()  # Reads the whole file into a string\n",
        "- file.readline()\n",
        "\n",
        "  - Reads only a single line from the file each time it is called, including the trailing newline character (\\n).\n",
        "\n",
        "  - Useful for reading files line by line, especially large files that may not fit into memory if read all at once.\n",
        "\n",
        "  - You can also specify a size argument to read up to a certain number of bytes from the line.\n",
        "\n",
        "Example:\n",
        "\n",
        "    line = file.readline()  # Reads the next line from the file\n",
        "\n",
        "In short:\n",
        "file.read() reads the whole file at once, while file.readline() reads one line at a time."
      ],
      "metadata": {
        "id": "tYVo8oFHyekZ"
      }
    },
    {
      "cell_type": "markdown",
      "source": [
        "#21) What is the logging module in Python used for?\n",
        "The logging module in Python is used to implement a flexible and configurable system for tracking events, errors, and informational messages that occur during the execution of a program. It allows developers to record messages at different severity levels (such as DEBUG, INFO, WARNING, ERROR, and CRITICAL), making it easier to monitor application behavior, debug issues, and maintain audit trails.\n",
        "\n",
        "**Key features of the logging module include:**\n",
        "\n",
        "- Configurable Output: Log messages can be directed to various destinations, such as the console, files, emails, or external systems, using different handlers.\n",
        "\n",
        "- Customizable Formatting: Developers can format log messages to include timestamps, log levels, module names, and other contextual information for clarity and traceability.\n",
        "\n",
        "- Hierarchical Loggers: The module supports hierarchical logger names, enabling fine-grained control over logging in large or modular applications.\n",
        "\n",
        "- Contextual and Structured Logging: It allows adding contextual information (like user IDs or session IDs) and supports structured logging for better analysis and debugging.\n",
        "\n",
        "- Centralized and Fine-Grained Control: Logging behavior can be configured centrally and adjusted dynamically, allowing different levels of detail or output destinations as needed.\n",
        "\n",
        "In summary, Python's logging module is essential for capturing, categorizing, and managing runtime information, which is crucial for debugging, monitoring, auditing, and maintaining robust applications.\n",
        "\n",
        "#22) What is the os module in Python used for in file handling?\n",
        "The os module in Python is used for performing a wide range of file handling and filesystem operations by providing an interface to interact with the underlying operating system. Its key uses in file handling include:\n",
        "\n",
        "- **Creating, Deleting, and Renaming Files and Directories:**\n",
        "Functions like os.mkdir(), os.makedirs(), os.remove(), os.rename(), and os.rmdir() allow you to create, delete, and rename files and directories efficiently.\n",
        "\n",
        "- **Navigating the Filesystem:**\n",
        "You can change or retrieve the current working directory using os.chdir() and os.getcwd(), and list contents of directories with os.listdir().\n",
        "\n",
        "- **Path Manipulation:**\n",
        "The module offers utilities such as os.path.join(), os.path.exists(), and related functions to build, check, and manipulate file paths in a way that is portable across different operating systems.\n",
        "\n",
        "- **Low-Level File Operations:**\n",
        "The os module provides functions like os.open(), os.read(), os.write(), and os.close() for low-level file access using file descriptors, enabling operations such as reading, writing, and closing files at a lower level than the built-in open() function.\n",
        "\n",
        "- **File Metadata and Permissions:**\n",
        "You can retrieve or modify file properties (such as size, permissions, and timestamps) using functions like os.stat(), os.chmod(), and os.utime().\n",
        "\n",
        "- **Checking File Existence:**\n",
        "With functions like os.path.exists(), you can check if a file or directory exists before performing operations on it.\n",
        "\n",
        "In summary:\n",
        "The os module is essential for file handling in Python, enabling you to create, delete, rename, navigate, and manipulate files and directories, as well as perform low-level file operations and manage file metadata in a cross-platform manner.\n",
        "\n",
        "#23) What are the challenges associated with memory management in Python?\n",
        "###Challenges Associated with Memory Management in Python\n",
        "Python's memory management system is largely automatic, using reference counting and garbage collection to allocate and reclaim memory. However, several challenges and limitations can affect application performance and reliability:\n",
        "\n",
        "1. Performance Overhead of Garbage Collection\n",
        "\n",
        "  - Python's garbage collector runs as a background process, which can introduce CPU and execution time overhead, especially when managing a large number of objects or complex reference cycles.\n",
        "\n",
        "  - Frequent or poorly-timed garbage collection cycles may impact the performance of high-throughput or latency-sensitive applications.\n",
        "\n",
        "2. Handling Circular References\n",
        "\n",
        "  - Reference counting, Python's primary memory management technique, cannot resolve circular references (objects referencing each other), which can lead to memory leaks if the garbage collector does not detect and clean them up efficiently.\n",
        "\n",
        "  - Developers may need to use weak references or manually break cycles to avoid these issues.\n",
        "\n",
        "3. Limited Manual Control\n",
        "\n",
        "  - Developers have limited control over when and how memory is reclaimed. The timing of garbage collection is mostly determined by Python's internal heuristics, which may not align with the needs of all applications.\n",
        "\n",
        "  - While the gc module allows some customization (e.g., adjusting thresholds or forcing collection), fine-grained control is generally not possible.\n",
        "\n",
        "4. Memory Not Always Released to OS\n",
        "\n",
        "  - Python's memory manager does not always return freed memory to the operating system, especially for small objects or in long-running processes. This can cause the process's memory footprint to remain high even after objects are deleted.\n",
        "\n",
        "  - This behavior can be problematic for applications with fluctuating memory needs or those running in memory-constrained environments.\n",
        "\n",
        "5. Risk of Memory Leaks\n",
        "\n",
        "  - Lingering references, large or infinitely growing data structures, and certain third-party libraries (like pandas) can cause memory leaks if not managed carefully.\n",
        "\n",
        "  - Memory leaks can lead to gradual performance degradation and eventual crashes in long-running applications.\n",
        "\n",
        "6. Complexity in Optimization\n",
        "\n",
        "  - Achieving optimal memory usage often requires understanding Python's internal memory organization (stack vs. heap), reference counting, and garbage collection strategies.\n",
        "\n",
        "  - Developers may need to adopt memory-efficient programming practices, such as using generators instead of lists, managing object lifetimes, and profiling memory usage.\n",
        "\n",
        "7. Platform and Implementation Differences\n",
        "\n",
        "  - Memory management behavior can vary between Python implementations and operating systems, making it harder to predict or debug memory issues in cross-platform applications.\n",
        "\n",
        "In summary:\n",
        "While Python's memory management is automatic and convenient, challenges such as garbage collection overhead, circular references, limited manual control, memory leaks, and platform-specific behavior require developers to be vigilant and proactive in monitoring and optimizing memory usage.\n",
        "\n",
        "#24) How do you raise an exception manually in Python?\n",
        "We can raise an exception manually in Python using the \"raise\" statement. This allows us to signal that an error or unusual condition has occurred in the program, either by raising a built-in exception or a custom exception.\n",
        "\n",
        "Syntax\n",
        "\n",
        "    raise ExceptionType(\"Error message\")\n",
        "**Example: Raising a Built-in Exception**\n",
        "\n",
        "    def divide(a, b):\n",
        "        if b == 0:\n",
        "            raise ValueError(\"Cannot divide by zero\")\n",
        "        return a / b\n",
        "\n",
        "    try:\n",
        "        result = divide(10, 0)\n",
        "    except ValueError as e:\n",
        "        print(e)\n",
        "**Output:**\n",
        "\n",
        "    Cannot divide by zero\n",
        "**Raising Custom Exceptions**\n",
        "We can also define our own exception class (inheriting from Exception) and raise it:\n",
        "\n",
        "    class MyCustomError(Exception):\n",
        "        pass\n",
        "\n",
        "    raise MyCustomError(\"A custom error occurred\")\n",
        "In summary:\n",
        "Use the raise statement followed by an exception type (built-in or custom) and an optional error message to manually raise exceptions in Python.\n",
        "\n",
        "#25) Why is it important to use multithreading in certain applications?\n",
        "**Importance of Using Multithreading in Certain Applications**\n",
        "- Improved Responsiveness:\n",
        "Multithreading allows applications to remain responsive, especially in scenarios where some tasks may block (e.g., waiting for user input, network responses, or disk I/O). While one thread waits, others can continue running, ensuring the application does not freeze or become unresponsive.\n",
        "\n",
        "- Efficient Resource Utilization:\n",
        "Threads share the same memory space and resources, which leads to efficient use of system resources. This sharing reduces memory overhead compared to creating separate processes.\n",
        "\n",
        "- Faster I/O-bound Operations:\n",
        "Multithreading is particularly beneficial for I/O-bound tasks (such as reading/writing files, database operations, or network requests). Multiple threads can handle different I/O operations concurrently, reducing overall wait time and improving throughput.\n",
        "\n",
        "- Reduced Response Time:\n",
        "By executing multiple tasks simultaneously, multithreading decreases the time required to complete operations, resulting in faster response times for end-users and real-time applications.\n",
        "\n",
        "- Scalability:\n",
        "Multithreading enables applications to scale better by handling multiple user requests or tasks concurrently, which is essential for web servers, real-time systems, and applications with a large user base.\n",
        "\n",
        "- Cost-Effectiveness:\n",
        "Since threads within a process share code and data, multithreading is more memory- and resource-efficient than multiprocessing, making it a cost-effective solution for many concurrent tasks.\n",
        "\n",
        "- Real-time Processing:\n",
        "Multithreading ensures that tasks or requests are processed with minimal delay, which is crucial for applications requiring real-time data processing or immediate feedback.\n",
        "\n",
        "In summary:\n",
        "Multithreading is important in applications that require high responsiveness, efficient handling of I/O-bound tasks, reduced latency, and effective resource sharing. It is widely used in web servers, GUI applications, and any system where multiple operations need to occur concurrently without significant overhead."
      ],
      "metadata": {
        "id": "p1KI2aU-18Ta"
      }
    },
    {
      "cell_type": "markdown",
      "source": [
        "#Practical Questions"
      ],
      "metadata": {
        "id": "2JrLWkeD5TEY"
      }
    },
    {
      "cell_type": "code",
      "source": [
        "#1) How can you open a file for writing in Python and write a string to it?\n",
        "# Open the file 'output.txt' in write mode ('w')\n",
        "with open('output.txt', 'w') as file:\n",
        "    # Write a string to the file\n",
        "    file.write('Hello, this is a sample string written to the file!\\n')\n",
        "    file.write('This is Data Analyst course \\n')\n"
      ],
      "metadata": {
        "id": "6WdCZxxD5bFD"
      },
      "execution_count": 51,
      "outputs": []
    },
    {
      "cell_type": "code",
      "source": [
        "#2) Write a Python program to read the contents of a file and print each line.\n",
        "\n",
        "# Open the file in read mode\n",
        "with open('output.txt', 'r') as file:\n",
        "    # Iterate over each line in the file\n",
        "    for line in file:\n",
        "        # Print the line (end='' avoids adding extra newlines)\n",
        "        print(line, end = '')\n"
      ],
      "metadata": {
        "colab": {
          "base_uri": "https://localhost:8080/"
        },
        "id": "uLoUSFEl9xVE",
        "outputId": "1de3eb78-d156-4cff-cb23-11b6d1159090"
      },
      "execution_count": 52,
      "outputs": [
        {
          "output_type": "stream",
          "name": "stdout",
          "text": [
            "Hello, this is a sample string written to the file!\n",
            "This is Data Analyst course \n"
          ]
        }
      ]
    },
    {
      "cell_type": "code",
      "source": [
        "#3) How would you handle a case where the file doesn't exist while trying to open it for reading?\n",
        "\n",
        "filename = 'input.txt'\n",
        "\n",
        "try:\n",
        "    with open(filename, 'r') as file:\n",
        "        for line in file:\n",
        "            print(line, end='')\n",
        "except FileNotFoundError as e:\n",
        "    print(f\"Error: The file '{filename}' does not exist.\" , e)\n"
      ],
      "metadata": {
        "colab": {
          "base_uri": "https://localhost:8080/"
        },
        "id": "HASaYKenAWw2",
        "outputId": "50a739da-3984-4815-ed80-0a47e927393f"
      },
      "execution_count": 16,
      "outputs": [
        {
          "output_type": "stream",
          "name": "stdout",
          "text": [
            "Error: The file 'input.txt' does not exist. [Errno 2] No such file or directory: 'input.txt'\n"
          ]
        }
      ]
    },
    {
      "cell_type": "code",
      "source": [
        "#4) Write a Python script that reads from one file and writes its content to another file.\n",
        "\n",
        "# Specify the source and destination file names\n",
        "with open('source.txt', 'w') as f:\n",
        "  f.write(\"This is a new created file\")\n",
        "source_file = 'source.txt'\n",
        "destination_file = 'destination.txt'\n",
        "\n",
        "try:\n",
        "    # Open the source file in read mode and destination file in write mode\n",
        "    with open(source_file, 'r') as src, open(destination_file, 'w') as dest:\n",
        "        # Read from source and write to destination line by line\n",
        "        for line in src:\n",
        "            dest.write(line)\n",
        "    print(f\"Contents copied from '{source_file}' to '{destination_file}'.\")\n",
        "except FileNotFoundError:\n",
        "    print(f\"Error: The file '{source_file}' does not exist.\")\n"
      ],
      "metadata": {
        "colab": {
          "base_uri": "https://localhost:8080/"
        },
        "id": "8kxOgQv8BHTG",
        "outputId": "12648015-6acb-48c5-f017-eef8069c1160"
      },
      "execution_count": 22,
      "outputs": [
        {
          "output_type": "stream",
          "name": "stdout",
          "text": [
            "Contents copied from 'source.txt' to 'destination.txt'.\n"
          ]
        }
      ]
    },
    {
      "cell_type": "code",
      "source": [
        "#5) How would you catch and handle division by zero error in Python?\n",
        "\n",
        "a=10\n",
        "b=0\n",
        "try:\n",
        "    result = a / b  # Replace a and b with your numerator and denominator\n",
        "except ZeroDivisionError as e:\n",
        "    print(\"Error: Cannot divide by zero.\", e)\n",
        "else:\n",
        "    print(\"Result:\", result)\n"
      ],
      "metadata": {
        "colab": {
          "base_uri": "https://localhost:8080/"
        },
        "id": "vkisGHKHDGAO",
        "outputId": "0fe50994-4bfb-4f96-999e-86a74635a281"
      },
      "execution_count": 26,
      "outputs": [
        {
          "output_type": "stream",
          "name": "stdout",
          "text": [
            "Error: Cannot divide by zero. division by zero\n"
          ]
        }
      ]
    },
    {
      "cell_type": "code",
      "source": [
        "#6)Write a Python program that logs an error message to a log file when a division by zero exception occurs.\n",
        "\n",
        "import logging\n",
        "\n",
        "# Configure logging to write to a file\n",
        "logging.basicConfig(\n",
        "    filename='error.log',         # Log file name\n",
        "    level=logging.ERROR,          # Log only errors and above\n",
        "    format='%(asctime)s - %(levelname)s - %(message)s'\n",
        ")\n",
        "\n",
        "a = 10\n",
        "b = 0\n",
        "\n",
        "try:\n",
        "    result = a / b\n",
        "except ZeroDivisionError:\n",
        "    logging.error(\"Attempted to divide %d by zero.\", a)\n",
        "else:\n",
        "    print(\"Result:\", result)\n"
      ],
      "metadata": {
        "colab": {
          "base_uri": "https://localhost:8080/"
        },
        "id": "unpB4z4jECw6",
        "outputId": "05baf35b-620f-4433-f454-d5ff657b251a"
      },
      "execution_count": 40,
      "outputs": [
        {
          "output_type": "stream",
          "name": "stderr",
          "text": [
            "ERROR:root:Attempted to divide 10 by zero.\n"
          ]
        }
      ]
    },
    {
      "cell_type": "code",
      "source": [
        "#7) How do you log information at different levels (INFO, ERROR, WARNING) in Python using the logging module?\n",
        "\n",
        "import logging\n",
        "\n",
        "# Configure logging: set level and format\n",
        "logging.basicConfig(\n",
        "    filename='logging1.log',\n",
        "    level= logging.INFO,  # Set minimum level to INFO\n",
        "    format='%(asctime)s - %(levelname)s - %(message)s'\n",
        ")\n",
        "\n",
        "logging.info(\"This is an info message.\")\n",
        "logging.warning(\"This is a warning message.\")\n",
        "logging.error(\"This is an error message.\")\n",
        "\n"
      ],
      "metadata": {
        "colab": {
          "base_uri": "https://localhost:8080/"
        },
        "id": "uP7noDh6FAR-",
        "outputId": "6c3533f3-7f15-4163-b66a-d3e448c69830"
      },
      "execution_count": 43,
      "outputs": [
        {
          "output_type": "stream",
          "name": "stderr",
          "text": [
            "WARNING:root:This is a warning message.\n",
            "ERROR:root:This is an error message.\n"
          ]
        }
      ]
    },
    {
      "cell_type": "code",
      "source": [
        "#8) Write a program to handle a file opening error using exception handling.\n",
        "\n",
        "filename = 'myfile.txt'\n",
        "\n",
        "try:\n",
        "    with open(filename, 'r') as file:\n",
        "        content = file.read()\n",
        "        print(\"File content:\")\n",
        "        print(content)\n",
        "except FileNotFoundError:\n",
        "    print(f\"Error: The file '{filename}' was not found.\")\n",
        "except IOError:\n",
        "    print(f\"Error: Could not open or read the file '{filename}'.\")\n"
      ],
      "metadata": {
        "colab": {
          "base_uri": "https://localhost:8080/"
        },
        "id": "Gpp34nCOIURz",
        "outputId": "74cc4b5a-1996-4a05-e13c-432e321943e4"
      },
      "execution_count": 44,
      "outputs": [
        {
          "output_type": "stream",
          "name": "stdout",
          "text": [
            "Error: The file 'myfile.txt' was not found.\n"
          ]
        }
      ]
    },
    {
      "cell_type": "code",
      "source": [
        "#9) How can you read a file line by line and store its content in a list in Python?\n",
        "\n",
        "filename = 'output.txt'\n",
        "with open(filename, 'r') as file:\n",
        "    lines_with_newlines = file.readlines()\n",
        "\n",
        "print(\"\\nFile content as a list (with newlines):\")\n",
        "print(lines_with_newlines)"
      ],
      "metadata": {
        "colab": {
          "base_uri": "https://localhost:8080/"
        },
        "id": "XCf2y9LXIteK",
        "outputId": "3b114ee8-c45d-4ebc-ea55-a5f6d800886e"
      },
      "execution_count": 53,
      "outputs": [
        {
          "output_type": "stream",
          "name": "stdout",
          "text": [
            "\n",
            "File content as a list (with newlines):\n",
            "['Hello, this is a sample string written to the file!\\n', 'This is Data Analyst course \\n']\n"
          ]
        }
      ]
    },
    {
      "cell_type": "code",
      "source": [
        "#10) How can you append data to an existing file in Python?\n",
        "\n",
        "# Open the file in append mode ('a')\n",
        "with open('example.txt', 'a') as file:\n",
        "    file.write(\"This is the new line being appended.\\n\")\n",
        "    file.write(\"This is another appended line.\\n\")\n",
        "\n",
        "print(\"Data has been appended to the file.\")\n"
      ],
      "metadata": {
        "colab": {
          "base_uri": "https://localhost:8080/"
        },
        "id": "4GjqhwPELKMg",
        "outputId": "938a5e6f-2f65-4413-e8fb-4b30594e3ce8"
      },
      "execution_count": 50,
      "outputs": [
        {
          "output_type": "stream",
          "name": "stdout",
          "text": [
            "Data has been appended to the file.\n"
          ]
        }
      ]
    },
    {
      "cell_type": "code",
      "source": [
        "#11) Write a Python program that uses a try-except block to handle an error when attempting to access a dictionary key that doesn't exist.\n",
        "\n",
        "# Sample dictionary\n",
        "person = {\n",
        "    \"name\": \"Alice\",\n",
        "    \"age\": 30\n",
        "}\n",
        "\n",
        "key_to_access = \"address\"\n",
        "\n",
        "try:\n",
        "    # Attempt to access a potentially missing key\n",
        "    value = person[key_to_access]\n",
        "    print(f\"The value for '{key_to_access}' is: {value}\")\n",
        "except KeyError:\n",
        "    print(f\"Error: The key '{key_to_access}' does not exist in the dictionary.\")\n"
      ],
      "metadata": {
        "colab": {
          "base_uri": "https://localhost:8080/"
        },
        "id": "1aUNMlouNSuq",
        "outputId": "7438cfba-b22f-401a-eda6-cbc22e520801"
      },
      "execution_count": 54,
      "outputs": [
        {
          "output_type": "stream",
          "name": "stdout",
          "text": [
            "Error: The key 'address' does not exist in the dictionary.\n"
          ]
        }
      ]
    },
    {
      "cell_type": "code",
      "source": [
        "#12) Write a program that demonstrates using multiple except blocks to handle different types of exceptions.\n",
        "\n",
        "try:\n",
        "    # Try to convert input to integer and divide\n",
        "    num1 = int(input(\"Enter a numerator: \"))\n",
        "    num2 = int(input(\"Enter a denominator: \"))\n",
        "    result = num1 / num2\n",
        "    print(f\"Result: {result}\")\n",
        "except ValueError:\n",
        "    print(\"Error: Please enter valid integers.\")\n",
        "except ZeroDivisionError:\n",
        "    print(\"Error: Cannot divide by zero.\")\n",
        "except Exception as e:\n",
        "    print(f\"An unexpected error occurred: {e}\")\n"
      ],
      "metadata": {
        "colab": {
          "base_uri": "https://localhost:8080/"
        },
        "id": "vzLe-rXJNmEm",
        "outputId": "9ca0298d-2fa5-477f-b2c8-b8f67ee388c8"
      },
      "execution_count": 55,
      "outputs": [
        {
          "output_type": "stream",
          "name": "stdout",
          "text": [
            "Enter a numerator: 9\n",
            "Enter a denominator: 4\n",
            "Result: 2.25\n"
          ]
        }
      ]
    },
    {
      "cell_type": "code",
      "source": [
        "#13) How would you check if a file exists before attempting to read it in Python?\n",
        "\n",
        "import os\n",
        "\n",
        "file_path = 'example.txt'\n",
        "\n",
        "if os.path.exists(file_path):\n",
        "    with open(file_path, 'r') as file:\n",
        "        content = file.read()\n",
        "        print(content)\n",
        "else:\n",
        "    print(\"The file does not exist.\")\n"
      ],
      "metadata": {
        "colab": {
          "base_uri": "https://localhost:8080/"
        },
        "id": "1yKWIIm5OC2F",
        "outputId": "43fb9ede-77fe-4d12-801c-957d163aef32"
      },
      "execution_count": 56,
      "outputs": [
        {
          "output_type": "stream",
          "name": "stdout",
          "text": [
            "This is the new line being appended.\n",
            "This is another appended line.\n",
            "\n"
          ]
        }
      ]
    },
    {
      "cell_type": "code",
      "source": [
        "#14) Write a program that uses the logging module to log both informational and error messages.\n",
        "\n",
        "import logging\n",
        "\n",
        "# Configure logging to log to both a file and the console\n",
        "logging.basicConfig(\n",
        "    level=logging.INFO,  # Minimum level to log\n",
        "    format='%(asctime)s - %(levelname)s - %(message)s',\n",
        "    handlers=[\n",
        "        logging.FileHandler(\"app.log\"),\n",
        "        logging.StreamHandler()\n",
        "    ]\n",
        ")\n",
        "\n",
        "# Log an informational message\n",
        "logging.info(\"The program started successfully.\")\n",
        "\n",
        "try:\n",
        "    # Example operation that could fail\n",
        "    x = 10\n",
        "    y = 0\n",
        "    result = x / y\n",
        "except ZeroDivisionError:\n",
        "    logging.error(\"Attempted to divide by zero.\")\n",
        "else:\n",
        "    logging.info(f\"Division successful. Result: {result}\")\n",
        "\n",
        "logging.info(\"The program finished execution.\")\n"
      ],
      "metadata": {
        "colab": {
          "base_uri": "https://localhost:8080/"
        },
        "id": "HRB67MJQOpHK",
        "outputId": "aba19fd8-9aa3-476f-cb9a-8adb9aef2c1a"
      },
      "execution_count": 57,
      "outputs": [
        {
          "output_type": "stream",
          "name": "stderr",
          "text": [
            "ERROR:root:Attempted to divide by zero.\n"
          ]
        }
      ]
    },
    {
      "cell_type": "code",
      "source": [
        "#15) Write a Python program that prints the content of a file and handles the case when the file is empty.\n",
        "\n",
        "filename = 'sample.txt'\n",
        "\n",
        "try:\n",
        "    with open(filename, 'r') as file:\n",
        "        content = file.read()\n",
        "        if content:\n",
        "            print(\"File content:\")\n",
        "            print(content)\n",
        "        else:\n",
        "            print(\"The file is empty.\")\n",
        "except FileNotFoundError:\n",
        "    print(f\"Error: The file '{filename}' does not exist.\")\n",
        "except IOError:\n",
        "    print(f\"Error: Could not read the file '{filename}'.\")\n"
      ],
      "metadata": {
        "colab": {
          "base_uri": "https://localhost:8080/"
        },
        "id": "bepel0ShO_s-",
        "outputId": "0a556793-74bd-4f56-ff79-a55aeb78d306"
      },
      "execution_count": 58,
      "outputs": [
        {
          "output_type": "stream",
          "name": "stdout",
          "text": [
            "Error: The file 'sample.txt' does not exist.\n"
          ]
        }
      ]
    },
    {
      "cell_type": "code",
      "source": [
        "#16) Demonstrate how to use memory profiling to check the memory usage of a small program.\n",
        "\n",
        "!pip install memory_profiler\n",
        "%load_ext memory_profiler\n",
        "\n",
        "from memory_profiler import profile\n",
        "\n",
        "@profile\n",
        "def allocate_memory():\n",
        "    a = [i for i in range(10000)]      # Allocate a list of 10,000 integers\n",
        "    b = [i ** 2 for i in range(10000)] # Allocate a list of their squares\n",
        "    return a, b\n",
        "\n",
        "%mprun -f allocate_memory allocate_memory()\n",
        "\n",
        "\n",
        "\n",
        "\n",
        "\n",
        "\n"
      ],
      "metadata": {
        "colab": {
          "base_uri": "https://localhost:8080/"
        },
        "id": "BhW-rj_-Pejj",
        "outputId": "8b244194-6961-4170-e1b5-9914d05b5ab1"
      },
      "execution_count": 66,
      "outputs": [
        {
          "output_type": "stream",
          "name": "stdout",
          "text": [
            "Requirement already satisfied: memory_profiler in /usr/local/lib/python3.11/dist-packages (0.61.0)\n",
            "Requirement already satisfied: psutil in /usr/local/lib/python3.11/dist-packages (from memory_profiler) (5.9.5)\n",
            "The memory_profiler extension is already loaded. To reload it, use:\n",
            "  %reload_ext memory_profiler\n",
            "ERROR: Could not find file <ipython-input-66-3118b7f85a7c>\n",
            "NOTE: %mprun can only be used on functions defined in physical files, and not in the IPython environment.\n",
            "\n"
          ]
        }
      ]
    },
    {
      "cell_type": "code",
      "source": [
        "#17)Write a Python program to create and write a list of numbers to a file, one number per line.\n",
        "\n",
        "# List of numbers to write\n",
        "numbers = [1, 2, 3, 4, 5, 10, 20, 30]\n",
        "\n",
        "# Name of the file to write to\n",
        "filename = 'numbers.txt'\n",
        "\n",
        "# Open the file in write mode and write each number on a new line\n",
        "with open(filename, 'w') as file:\n",
        "    for number in numbers:\n",
        "        file.write(f\"{number}\\n\")\n",
        "\n",
        "print(f\"Numbers have been written to '{filename}' one per line.\")\n"
      ],
      "metadata": {
        "colab": {
          "base_uri": "https://localhost:8080/"
        },
        "id": "v58yM3CQUJWV",
        "outputId": "0477ae43-92f7-43cd-eaf2-ee1248378c94"
      },
      "execution_count": 67,
      "outputs": [
        {
          "output_type": "stream",
          "name": "stdout",
          "text": [
            "Numbers have been written to 'numbers.txt' one per line.\n"
          ]
        }
      ]
    },
    {
      "cell_type": "code",
      "source": [
        "#18) How would you implement a basic logging setup that logs to a file with rotation after 1MB?\n",
        "\n",
        "import logging\n",
        "from logging.handlers import RotatingFileHandler\n",
        "\n",
        "# Create a logger\n",
        "logger = logging.getLogger(\"rotating_logger\")\n",
        "logger.setLevel(logging.INFO)\n",
        "\n",
        "# Create a rotating file handler\n",
        "handler = RotatingFileHandler(\n",
        "    \"my_app.log\",          # Log file name\n",
        "    maxBytes=1 * 1024 * 1024,  # 1 MB\n",
        "    backupCount=3              # Keep up to 3 backup log files\n",
        ")\n",
        "\n",
        "# Set a log format\n",
        "formatter = logging.Formatter(\n",
        "    '%(asctime)s - %(levelname)s - %(message)s'\n",
        ")\n",
        "handler.setFormatter(formatter)\n",
        "\n",
        "# Add the handler to the logger\n",
        "logger.addHandler(handler)\n",
        "\n",
        "# Example: Generate log messages to trigger rotation\n",
        "for i in range(10):\n",
        "    logger.info(f\"This is log message number {i}\")\n",
        "\n",
        "print(\"Logging complete. Check the log files for rotation.\")\n"
      ],
      "metadata": {
        "colab": {
          "base_uri": "https://localhost:8080/"
        },
        "id": "P7GsogLzUf6-",
        "outputId": "ecebcf31-a19a-4340-872b-584b0b058588"
      },
      "execution_count": 70,
      "outputs": [
        {
          "output_type": "stream",
          "name": "stderr",
          "text": [
            "INFO:rotating_logger:This is log message number 0\n",
            "INFO:rotating_logger:This is log message number 1\n",
            "INFO:rotating_logger:This is log message number 2\n",
            "INFO:rotating_logger:This is log message number 3\n",
            "INFO:rotating_logger:This is log message number 4\n",
            "INFO:rotating_logger:This is log message number 5\n",
            "INFO:rotating_logger:This is log message number 6\n",
            "INFO:rotating_logger:This is log message number 7\n",
            "INFO:rotating_logger:This is log message number 8\n",
            "INFO:rotating_logger:This is log message number 9\n"
          ]
        },
        {
          "output_type": "stream",
          "name": "stdout",
          "text": [
            "Logging complete. Check the log files for rotation.\n"
          ]
        }
      ]
    },
    {
      "cell_type": "code",
      "source": [
        "#19)Write a program that handles both IndexError and KeyError using a try-except block.\n",
        "\n",
        "# Sample data structures\n",
        "my_list = [10, 20, 30]\n",
        "my_dict = {'a': 1, 'b': 2}\n",
        "\n",
        "try:\n",
        "    # Attempt to access an out-of-range index\n",
        "    print(\"List element at index 5:\", my_list[5])\n",
        "    # Attempt to access a missing key\n",
        "    print(\"Dictionary value for key 'z':\", my_dict['z'])\n",
        "except IndexError :\n",
        "    print(\"Error: List index is out of range.\")\n",
        "except KeyError :\n",
        "    print(\"Error: Dictionary key does not exist.\")\n"
      ],
      "metadata": {
        "colab": {
          "base_uri": "https://localhost:8080/"
        },
        "id": "X4WuaDvQVXOz",
        "outputId": "ecc17b70-70d0-4691-de5e-d615d966bafc"
      },
      "execution_count": 76,
      "outputs": [
        {
          "output_type": "stream",
          "name": "stdout",
          "text": [
            "Error: List index is out of range.\n"
          ]
        }
      ]
    },
    {
      "cell_type": "code",
      "source": [
        "#20) How would you open a file and read its contents using a context manager in Python?\n",
        "\n",
        "with open('example.txt', 'r') as file:\n",
        "    content = file.read()\n",
        "    print(content)\n"
      ],
      "metadata": {
        "colab": {
          "base_uri": "https://localhost:8080/"
        },
        "id": "_xk0ker8WZQu",
        "outputId": "6652d41a-5561-4576-b0d5-aabebe8e1705"
      },
      "execution_count": 78,
      "outputs": [
        {
          "output_type": "stream",
          "name": "stdout",
          "text": [
            "This is the new line being appended.\n",
            "This is another appended line.\n",
            "\n"
          ]
        }
      ]
    },
    {
      "cell_type": "code",
      "source": [
        "#21) Write a Python program that reads a file and prints the number of occurrences of a specific word.\n",
        "\n",
        "# Specify the file name and the word to search for\n",
        "filename = 'example.txt'\n",
        "search_word = 'This'\n",
        "\n",
        "try:\n",
        "    with open(filename, 'r') as file:\n",
        "        content = file.read()\n",
        "        # Count occurrences (case-insensitive)\n",
        "        count = content.lower().split().count(search_word.lower())\n",
        "        print(f\"The word '{search_word}' occurs {count} times in '{filename}'.\")\n",
        "except FileNotFoundError:\n",
        "    print(f\"Error: The file '{filename}' does not exist.\")\n",
        "except IOError:\n",
        "    print(f\"Error: Could not read the file '{filename}'.\")\n"
      ],
      "metadata": {
        "colab": {
          "base_uri": "https://localhost:8080/"
        },
        "id": "J5IjLmTsW-rX",
        "outputId": "b7053b2c-61a6-4bb5-9338-3996bafc81f3"
      },
      "execution_count": 79,
      "outputs": [
        {
          "output_type": "stream",
          "name": "stdout",
          "text": [
            "The word 'This' occurs 2 times in 'example.txt'.\n"
          ]
        }
      ]
    },
    {
      "cell_type": "code",
      "source": [
        "#22) How can you check if a file is empty before attempting to read its contents?\n",
        "\n",
        "import os\n",
        "\n",
        "with open('yourfile.txt', 'w') as f:\n",
        "  f.write(\"\")\n",
        "file_path = 'yourfile.txt'\n",
        "\n",
        "if os.path.getsize(file_path) == 0:      #To check if a file is empty before attempting to read its contents in Python, the most common and efficient method is to check the file size using either os.path.getsize() or os.stat().st_size. If the file size is zero, the file is empty and you can avoid reading it.\n",
        "    print(\"The file is empty.\")\n",
        "else:\n",
        "    with open(file_path, 'r') as file:\n",
        "        content = file.read()\n",
        "        print(content)\n"
      ],
      "metadata": {
        "colab": {
          "base_uri": "https://localhost:8080/"
        },
        "id": "XZ3UokdRYCfn",
        "outputId": "e29d5d4e-1ee9-471d-acff-637a1dfed0df"
      },
      "execution_count": 83,
      "outputs": [
        {
          "output_type": "stream",
          "name": "stdout",
          "text": [
            "The file is empty.\n"
          ]
        }
      ]
    },
    {
      "cell_type": "code",
      "source": [
        "#23) Write a Python program that writes to a log file when an error occurs during file handling.\n",
        "\n",
        "import logging\n",
        "\n",
        "# Configure logging to write errors to a file\n",
        "logging.basicConfig(\n",
        "    filename='error.log',            # Log file name\n",
        "    level=logging.ERROR,             # Log only errors and above\n",
        "    format='%(asctime)s - %(levelname)s - %(message)s'  # Log format with timestamp\n",
        ")\n",
        "\n",
        "def read_file(file_path):\n",
        "    try:\n",
        "        with open(file_path, 'r') as f:\n",
        "            data = f.read()\n",
        "            return data\n",
        "    except Exception as e:\n",
        "        # Log the exception with traceback\n",
        "        logging.exception(f\"Error occurred while handling the file: {file_path}\")\n",
        "        print(f\"An error occurred. Check 'error.log' for details.\")\n",
        "\n",
        "# Example usage\n",
        "if __name__ == \"__main__\":\n",
        "    filename = \"non_existent_file.txt\"\n",
        "    content = read_file(filename)\n"
      ],
      "metadata": {
        "colab": {
          "base_uri": "https://localhost:8080/"
        },
        "id": "KbZ5ntTQaCQn",
        "outputId": "402c1342-633f-4347-8fa6-3eb5fabfb0ad"
      },
      "execution_count": 84,
      "outputs": [
        {
          "output_type": "stream",
          "name": "stderr",
          "text": [
            "ERROR:root:Error occurred while handling the file: non_existent_file.txt\n",
            "Traceback (most recent call last):\n",
            "  File \"<ipython-input-84-b9835ca2a264>\", line 14, in read_file\n",
            "    with open(file_path, 'r') as f:\n",
            "         ^^^^^^^^^^^^^^^^^^^^\n",
            "FileNotFoundError: [Errno 2] No such file or directory: 'non_existent_file.txt'\n"
          ]
        },
        {
          "output_type": "stream",
          "name": "stdout",
          "text": [
            "An error occurred. Check 'error.log' for details.\n"
          ]
        }
      ]
    }
  ]
}